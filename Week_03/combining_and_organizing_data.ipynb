{
 "cells": [
  {
   "cell_type": "markdown",
   "id": "d766870b",
   "metadata": {},
   "source": [
    "# Combining & organizing data"
   ]
  },
  {
   "cell_type": "markdown",
   "id": "56c4a43d",
   "metadata": {},
   "source": [
    "## Libraries and settings"
   ]
  },
  {
   "cell_type": "code",
   "execution_count": null,
   "id": "06ae6c4d",
   "metadata": {},
   "outputs": [],
   "source": [
    "# Libraries\n",
    "import os\n",
    "import pandas as pd\n",
    "import numpy as np\n",
    "import fnmatch\n",
    "\n",
    "# Ignore warnings\n",
    "import warnings\n",
    "warnings.filterwarnings(\"ignore\")\n",
    "\n",
    "# Show current working directory\n",
    "print(os.getcwd())"
   ]
  },
  {
   "cell_type": "markdown",
   "id": "9043cb40",
   "metadata": {},
   "source": [
    "## Importing the prepared rental apartments data"
   ]
  },
  {
   "cell_type": "code",
   "execution_count": null,
   "id": "0e0224b2",
   "metadata": {},
   "outputs": [],
   "source": [
    "# Read data to pandas data frame\n",
    "df_orig = pd.read_csv('apartments_data_prepared.csv', \n",
    "                      sep=',', \n",
    "                      encoding='utf-8')\n",
    "\n",
    "# Copy of data with selected colums\n",
    "columns = [ 'web-scraper-order', \n",
    "            'address_raw',\n",
    "            'rooms', \n",
    "            'area', \n",
    "            'luxurious',\n",
    "            'price',\n",
    "            'price_per_m2']\n",
    "df = df_orig[columns]\n",
    "\n",
    "# Get number of rows and columns\n",
    "print(df.shape)\n",
    "\n",
    "# Show first records\n",
    "df.head(5)"
   ]
  },
  {
   "cell_type": "markdown",
   "id": "f2b3f8b2",
   "metadata": {},
   "source": [
    "## Combining data from different sources"
   ]
  },
  {
   "cell_type": "markdown",
   "id": "03022398",
   "metadata": {},
   "source": [
    "### Reading rental apartment data with geocoded addresses"
   ]
  },
  {
   "cell_type": "code",
   "execution_count": null,
   "id": "4e722a57",
   "metadata": {},
   "outputs": [],
   "source": [
    "# Meaning of variables\n",
    "# lat: geographical latitude\n",
    "# lon: geographical longitude\n",
    "# bfs_number: official municipality id\n",
    "# bfs_name: official municipality name\n",
    "\n",
    "# Geocoded data (i.e. data with latitude and longitude)\n",
    "df_geo = pd.read_csv('apartments_data_geocoded.csv', \n",
    "                     sep=',', \n",
    "                     encoding='utf-8')\n",
    "\n",
    "# Rename columns\n",
    "df_geo = df_geo.rename(columns={'web-scrape':'web-scraper-order',\n",
    "                                'address_ra':'address_raw',\n",
    "                                'BFS_NUMMER':'bfs_number', \n",
    "                                'NAME':'bfs_name'})\n",
    "\n",
    "# Show data\n",
    "df_geo[['web-scraper-order',\n",
    "        'address_raw',\n",
    "        'lat', \n",
    "        'lon', \n",
    "        'bfs_number', \n",
    "        'bfs_name']].head()"
   ]
  },
  {
   "cell_type": "markdown",
   "id": "79c2b637",
   "metadata": {},
   "source": [
    "### Join geo-information to rental apartment data using .merge()"
   ]
  },
  {
   "cell_type": "code",
   "execution_count": null,
   "id": "b2aeb277",
   "metadata": {},
   "outputs": [],
   "source": [
    "df2 = df.merge(df_geo[['web-scraper-order', \n",
    "                       'lat', \n",
    "                       'lon', \n",
    "                       'bfs_number', \n",
    "                       'bfs_name']], \n",
    "               on=\"web-scraper-order\")\n",
    "df2.head()"
   ]
  },
  {
   "cell_type": "markdown",
   "id": "ec21f353",
   "metadata": {},
   "source": [
    "### Reading municipality-level data"
   ]
  },
  {
   "cell_type": "code",
   "execution_count": null,
   "id": "f49be65f",
   "metadata": {},
   "outputs": [],
   "source": [
    "# Meaning of variables:\n",
    "# bfs_number: official municipality id\n",
    "# bfs_name: official municipality name\n",
    "# pop: number of residents (=population)\n",
    "# pop_dens: population density (pop per km2)\n",
    "# frg_pct: percentage foreigners\n",
    "# emp: numer of employees\n",
    "\n",
    "df_municip = pd.read_excel('municipality_data.xlsx', \n",
    "                           sheet_name='data_for_import')\n",
    "df_municip.head(5)"
   ]
  },
  {
   "cell_type": "markdown",
   "id": "c8600d9a",
   "metadata": {},
   "source": [
    "### Join municipality data to rental apartment data using .merge()"
   ]
  },
  {
   "cell_type": "code",
   "execution_count": null,
   "id": "b22f4607",
   "metadata": {},
   "outputs": [],
   "source": [
    "# Merge needs a key which must be identical in both data sets (here the key is 'bfs_number')\n",
    "df3 = df2.merge(df_municip[['bfs_number', \n",
    "                            'pop', \n",
    "                            'pop_dens', \n",
    "                            'frg_pct', \n",
    "                            'emp']], \n",
    "                on=\"bfs_number\")\n",
    "df3.head(5)"
   ]
  },
  {
   "cell_type": "code",
   "execution_count": null,
   "id": "7cd0b1f0",
   "metadata": {},
   "outputs": [],
   "source": [
    "# Merge needs a key which must be identical in both data sets (here the key is 'bfs_number')\n",
    "df3 = df2.merge(df_municip[['bfs_number', \n",
    "                            'pop', \n",
    "                            'pop_dens', \n",
    "                            'frg_pct', \n",
    "                            'emp',\n",
    "                            'mean_taxable_income']], \n",
    "                on=\"bfs_number\")\n",
    "df3.head(10)"
   ]
  },
  {
   "cell_type": "markdown",
   "id": "5c201f19",
   "metadata": {},
   "source": [
    "### Export data to file"
   ]
  },
  {
   "cell_type": "code",
   "execution_count": null,
   "id": "d7ab8250",
   "metadata": {},
   "outputs": [],
   "source": [
    "# Remove missing values which may have ocured from the merging process\n",
    "df3 = df3.dropna()\n",
    "\n",
    "# Check for missing values per column\n",
    "print(df3.isna().sum())\n",
    "\n",
    "# Count number of rows and columns\n",
    "print(df3.shape)\n",
    "\n",
    "# Export apartment data to file\n",
    "df3.to_csv('apartments_data_enriched.csv',\n",
    "            sep=',',\n",
    "            encoding='utf-8')"
   ]
  },
  {
   "cell_type": "markdown",
   "id": "791c9563",
   "metadata": {},
   "source": [
    "### Sorting data"
   ]
  },
  {
   "cell_type": "code",
   "execution_count": null,
   "id": "dc4c9112",
   "metadata": {},
   "outputs": [],
   "source": [
    "# Sorting data by 'price' and 'area' with highest price above (ascending=False)\n",
    "df3.sort_values(by=['price', 'area'], \n",
    "                ascending=False).head()"
   ]
  },
  {
   "cell_type": "markdown",
   "id": "cd27e686",
   "metadata": {},
   "source": [
    "### Aggregation of data"
   ]
  },
  {
   "cell_type": "code",
   "execution_count": null,
   "id": "566135d2",
   "metadata": {},
   "outputs": [],
   "source": [
    "# Aggregation using .groupby()\n",
    "df3[['rooms', 'price']].groupby(['rooms']).mean()"
   ]
  },
  {
   "cell_type": "markdown",
   "id": "1aa577f9",
   "metadata": {},
   "source": [
    "## Reshaping data"
   ]
  },
  {
   "cell_type": "markdown",
   "id": "2f70bf89",
   "metadata": {},
   "source": [
    "### Reshaping data using .stack() and .unstack()"
   ]
  },
  {
   "cell_type": "code",
   "execution_count": null,
   "id": "74d80957",
   "metadata": {},
   "outputs": [],
   "source": [
    "df_sub = df3[['bfs_name', 'rooms', 'price', 'area']][:5]\n",
    "print('Original shape')\n",
    "print(df_sub, '\\n')\n",
    "\n",
    "df_sub_stacked = df_sub.stack()\n",
    "print('Stacked')\n",
    "print(df_sub_stacked, '\\n')\n",
    "\n",
    "# Using unstack\n",
    "print('Unstacked (= back to original shape)')\n",
    "print(df_sub_stacked.unstack())"
   ]
  },
  {
   "cell_type": "markdown",
   "id": "1db19bde",
   "metadata": {},
   "source": [
    "### Reshaping data using .melt()"
   ]
  },
  {
   "cell_type": "code",
   "execution_count": null,
   "id": "33533c97",
   "metadata": {},
   "outputs": [],
   "source": [
    "df_sub = df3[['rooms', 'price', 'area']][:5]\n",
    "print('Original shape')\n",
    "print(df_sub, '\\n')\n",
    "\n",
    "print('Reshaped using .melt()')\n",
    "print(pd.melt(df, id_vars=['rooms'], value_vars=['price', 'area']))"
   ]
  },
  {
   "cell_type": "markdown",
   "id": "c2991e66",
   "metadata": {},
   "source": [
    "### Pivoting data using .pivot_table()"
   ]
  },
  {
   "cell_type": "code",
   "execution_count": null,
   "id": "4ac34162",
   "metadata": {},
   "outputs": [],
   "source": [
    "# Using pivot_table to reshape the data and calculate means \n",
    "pd.pivot_table(df3[['rooms', 'price', 'area','price_per_m2']],\n",
    "               index=['rooms'],\n",
    "               values=['price', 'area', 'rooms','price_per_m2'],\n",
    "               aggfunc=(np.mean))\n",
    "#Explanation of the difference in price and price per m2:\n",
    "#The price per m2 gets smaller the more rooms the appartement has. This is because the\n",
    "#rental company has the (almost) same amount of administrative work for a 1 rooms appartement as\n",
    "#for a 1< rooms appartement"
   ]
  },
  {
   "cell_type": "code",
   "execution_count": null,
   "id": "250e59fa",
   "metadata": {},
   "outputs": [],
   "source": [
    "pd.pivot_table(df3[['rooms', 'price', 'area','price_per_m2',]],\n",
    "               index=['rooms'],\n",
    "               values=['price', 'area', 'rooms','price_per_m2'],\n",
    "               aggfunc=('count'))\n",
    "#Explanation of the distribution of appartements:\n",
    "#The top 3 appartements (DESC) are: 3.5 rooms, 4.5 rooms, 2.5 rooms\n",
    "#Room amount X.5 is often prefered than room amount X.0"
   ]
  },
  {
   "cell_type": "code",
   "execution_count": 43,
   "id": "4b1da656",
   "metadata": {},
   "outputs": [
    {
     "data": {
      "text/html": [
       "<div>\n",
       "<style scoped>\n",
       "    .dataframe tbody tr th:only-of-type {\n",
       "        vertical-align: middle;\n",
       "    }\n",
       "\n",
       "    .dataframe tbody tr th {\n",
       "        vertical-align: top;\n",
       "    }\n",
       "\n",
       "    .dataframe thead th {\n",
       "        text-align: right;\n",
       "    }\n",
       "</style>\n",
       "<table border=\"1\" class=\"dataframe\">\n",
       "  <thead>\n",
       "    <tr style=\"text-align: right;\">\n",
       "      <th></th>\n",
       "      <th>area</th>\n",
       "      <th>price</th>\n",
       "      <th>price_per_m2</th>\n",
       "    </tr>\n",
       "    <tr>\n",
       "      <th>bfs_name</th>\n",
       "      <th></th>\n",
       "      <th></th>\n",
       "      <th></th>\n",
       "    </tr>\n",
       "  </thead>\n",
       "  <tbody>\n",
       "    <tr>\n",
       "      <th>Rüschlikon</th>\n",
       "      <td>144.000000</td>\n",
       "      <td>6660.000000</td>\n",
       "      <td>46.250000</td>\n",
       "    </tr>\n",
       "    <tr>\n",
       "      <th>Küsnacht (ZH)</th>\n",
       "      <td>136.333333</td>\n",
       "      <td>4891.666667</td>\n",
       "      <td>35.476667</td>\n",
       "    </tr>\n",
       "    <tr>\n",
       "      <th>Nürensdorf</th>\n",
       "      <td>506.500000</td>\n",
       "      <td>4500.000000</td>\n",
       "      <td>17.605000</td>\n",
       "    </tr>\n",
       "    <tr>\n",
       "      <th>Maur</th>\n",
       "      <td>138.500000</td>\n",
       "      <td>4250.000000</td>\n",
       "      <td>30.445000</td>\n",
       "    </tr>\n",
       "    <tr>\n",
       "      <th>Obfelden</th>\n",
       "      <td>127.500000</td>\n",
       "      <td>4095.000000</td>\n",
       "      <td>31.910000</td>\n",
       "    </tr>\n",
       "  </tbody>\n",
       "</table>\n",
       "</div>"
      ],
      "text/plain": [
       "                     area        price  price_per_m2\n",
       "bfs_name                                            \n",
       "Rüschlikon     144.000000  6660.000000     46.250000\n",
       "Küsnacht (ZH)  136.333333  4891.666667     35.476667\n",
       "Nürensdorf     506.500000  4500.000000     17.605000\n",
       "Maur           138.500000  4250.000000     30.445000\n",
       "Obfelden       127.500000  4095.000000     31.910000"
      ]
     },
     "execution_count": 43,
     "metadata": {},
     "output_type": "execute_result"
    }
   ],
   "source": [
    "pivot_table = pd.pivot_table(df3[['bfs_name', 'area', 'price','price_per_m2',]],\n",
    "               index=['bfs_name'],\n",
    "               values=['bfs_name', 'area', 'price','price_per_m2'],\n",
    "               aggfunc=(np.mean))\n",
    "\n",
    "sorted_pivot = pivot_table.sort_values(by=['price','area'],ascending = [False, False])\n",
    "\n",
    "sorted_pivot.head()\n"
   ]
  },
  {
   "cell_type": "markdown",
   "id": "9cec2fdf",
   "metadata": {},
   "source": [
    "### Jupyter notebook --footer info-- (please always provide this at the end of each submitted notebook)"
   ]
  },
  {
   "cell_type": "code",
   "execution_count": null,
   "id": "1ae752a7",
   "metadata": {},
   "outputs": [],
   "source": [
    "import os\n",
    "import platform\n",
    "import socket\n",
    "from platform import python_version\n",
    "from datetime import datetime\n",
    "\n",
    "print('-----------------------------------')\n",
    "print(os.name.upper())\n",
    "print(platform.system(), '|', platform.release())\n",
    "print('Datetime:', datetime.now().strftime(\"%Y-%m-%d %H:%M:%S\"))\n",
    "print('Python Version:', python_version())\n",
    "print('-----------------------------------')"
   ]
  }
 ],
 "metadata": {
  "kernelspec": {
   "display_name": "Python 3 (ipykernel)",
   "language": "python",
   "name": "python3"
  },
  "language_info": {
   "codemirror_mode": {
    "name": "ipython",
    "version": 3
   },
   "file_extension": ".py",
   "mimetype": "text/x-python",
   "name": "python",
   "nbconvert_exporter": "python",
   "pygments_lexer": "ipython3",
   "version": "3.10.13"
  }
 },
 "nbformat": 4,
 "nbformat_minor": 5
}
