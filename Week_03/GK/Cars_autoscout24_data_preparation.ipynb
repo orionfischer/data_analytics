{
 "cells": [
  {
   "cell_type": "code",
   "execution_count": 2,
   "metadata": {},
   "outputs": [
    {
     "name": "stdout",
     "output_type": "stream",
     "text": [
      "/workspaces/data_analytics/Week_03/GK\n"
     ]
    }
   ],
   "source": [
    "# Libraries\n",
    "import os\n",
    "import re\n",
    "import fnmatch\n",
    "import datetime\n",
    "import numpy as np\n",
    "import pandas as pd\n",
    "\n",
    "# Ignore warnings\n",
    "import warnings\n",
    "warnings.filterwarnings(\"ignore\")\n",
    "\n",
    "# Show current working directory\n",
    "print(os.getcwd())"
   ]
  },
  {
   "cell_type": "code",
   "execution_count": 6,
   "metadata": {},
   "outputs": [
    {
     "data": {
      "text/plain": [
       "(3980, 9)"
      ]
     },
     "execution_count": 6,
     "metadata": {},
     "output_type": "execute_result"
    }
   ],
   "source": [
    "# Read the data to a pandas data frame\n",
    "df = pd.read_csv('Cars_autoscout24.csv', sep=';', encoding='latin1')\n",
    "\n",
    "# Get number of rows and columns\n",
    "df.shape"
   ]
  },
  {
   "cell_type": "code",
   "execution_count": 8,
   "metadata": {},
   "outputs": [
    {
     "name": "stdout",
     "output_type": "stream",
     "text": [
      "   Offer_Id                                               Type         Price  \\\n",
      "0   7324420  AUDI A5 Sportback 3.0 TDI quattro S-tronic (Li...  CHF 22'500.   \n",
      "1   7512768        MERCEDES-BENZ SLK 200 7G-Tronic (Cabriolet)  CHF 23'749.   \n",
      "2   7512034  MERCEDES-BENZ C 350 Avantgarde 4Matic 7G-Troni...  CHF 18'500.   \n",
      "3   7512728  MERCEDES-BENZ A 45 AMG 4Matic Speedshift 7G-DC...  CHF 36'000.   \n",
      "4   7490242  AUDI A5 Sportback 2.0 TFSI Sport quattro S-tro...  CHF 48'500.   \n",
      "\n",
      "       PS Init_Regist   Kilometer Fuel_Type                    Transmission  \\\n",
      "0  245 PS     10.2014   75'000 km    Diesel  Automatisiertes Schaltgetriebe   \n",
      "1  184 PS      6.2013   46'655 km    Benzin             Automat sequentiell   \n",
      "2  306 PS      6.2011  138'955 km    Benzin             Automat sequentiell   \n",
      "3  360 PS      8.2015   43'000 km    Benzin  Automatisiertes Schaltgetriebe   \n",
      "4  252 PS      9.2018   43'300 km    Benzin  Automatisiertes Schaltgetriebe   \n",
      "\n",
      "                                         Description  Str_len  \\\n",
      "0  Hubraum: 2'967 cm3 Zylinder: 6 Anhängelast geb...      252   \n",
      "1  Hubraum: 1'796 cm3 Zylinder: 4 Letzte Prüfung:...      180   \n",
      "2  Hubraum: 3'498 cm3 Zylinder: 6 Anhängelast geb...      213   \n",
      "3  Hubraum: 1'991 cm3 Zylinder: 4 Letzte Prüfung:...      199   \n",
      "4  Hubraum: 1'984 cm3 Zylinder: 4 Letzte Prüfung:...      205   \n",
      "\n",
      "                                   Description_upper  \n",
      "0  HUBRAUM: 2'967 CM3 ZYLINDER: 6 ANHÄNGELAST GEB...  \n",
      "1  HUBRAUM: 1'796 CM3 ZYLINDER: 4 LETZTE PRÜFUNG:...  \n",
      "2  HUBRAUM: 3'498 CM3 ZYLINDER: 6 ANHÄNGELAST GEB...  \n",
      "3  HUBRAUM: 1'991 CM3 ZYLINDER: 4 LETZTE PRÜFUNG:...  \n",
      "4  HUBRAUM: 1'984 CM3 ZYLINDER: 4 LETZTE PRÜFUNG:...  \n"
     ]
    }
   ],
   "source": [
    "# a. Compute string lengths\n",
    "df['Str_len'] = df['Description'].apply(len)  # Using the `len` function with `apply` to get length of each string.\n",
    "\n",
    "# b. Convert strings to uppercase and store in new variable\n",
    "df['Description_upper'] = df['Description'].str.upper()  # Using the `upper` method with string accessor `str`.\n",
    "\n",
    "# c. Remove leading and trailing spaces from the uppercase strings\n",
    "df['Description_upper'] = df['Description_upper'].str.strip()  # Using `strip` method with string accessor `str`.\n",
    "\n",
    "# Display the resulting DataFrame\n",
    "print(df.head())\n"
   ]
  }
 ],
 "metadata": {
  "kernelspec": {
   "display_name": "Python 3",
   "language": "python",
   "name": "python3"
  },
  "language_info": {
   "codemirror_mode": {
    "name": "ipython",
    "version": 3
   },
   "file_extension": ".py",
   "mimetype": "text/x-python",
   "name": "python",
   "nbconvert_exporter": "python",
   "pygments_lexer": "ipython3",
   "version": "3.10.13"
  },
  "orig_nbformat": 4
 },
 "nbformat": 4,
 "nbformat_minor": 2
}
