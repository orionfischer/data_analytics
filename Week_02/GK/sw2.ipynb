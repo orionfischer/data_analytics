{
 "cells": [
  {
   "cell_type": "code",
   "execution_count": 4,
   "metadata": {},
   "outputs": [
    {
     "name": "stdout",
     "output_type": "stream",
     "text": [
      "         date currency_code       name  local_price  dollar_ex  dollar_price\n",
      "0  2000-04-01           ARS  Argentina         2.50          1          2.50\n",
      "1  2000-04-01           AUD  Australia         2.59          1          2.59\n",
      "2  2000-04-01           BRL     Brazil         2.95          1          2.95\n",
      "3  2000-04-01           GBP    Britain         1.90          1          1.90\n",
      "4  2000-04-01           CAD     Canada         2.85          1          2.85\n"
     ]
    }
   ],
   "source": [
    "import pandas as pd\n",
    "\n",
    "# Read data from a CSV file into a DataFrame\n",
    "df = pd.read_csv(\"BigmacPrice.csv\")\n",
    "\n",
    "# Display the first few rows of the DataFrame\n",
    "print(df.head())"
   ]
  },
  {
   "cell_type": "code",
   "execution_count": 6,
   "metadata": {},
   "outputs": [
    {
     "name": "stdout",
     "output_type": "stream",
     "text": [
      "   chicken_id       weight              breed  eggs_per_year\n",
      "0           1  2728.854920  New Hampshire Red            158\n",
      "1           2  2323.761365         Australorp            273\n",
      "2           3  2635.062034  New Hampshire Red            153\n",
      "3           4  2603.985152      Plymouth Rock            268\n",
      "4           5  3079.394487         Australorp            360\n"
     ]
    }
   ],
   "source": [
    "import pandas as pd\n",
    "\n",
    "# Read data from a CSV file into a DataFrame\n",
    "df = pd.read_excel(\"ChickenData.xlsx\")\n",
    "\n",
    "# Display the first few rows of the DataFrame\n",
    "print(df.head())\n"
   ]
  },
  {
   "cell_type": "code",
   "execution_count": 1,
   "metadata": {},
   "outputs": [
    {
     "name": "stdout",
     "output_type": "stream",
     "text": [
      "{'Australorp': [273, 360, 185, 257, 346, 270, 295, 256, 212, 207, 253, 276, 322, 252, 275, 175, 362, 287, 185, 261, 258, 156, 213], 'Barnevelder': [317, 169, 161, 361, 266, 319, 184, 287, 347, 359, 303, 186, 266, 192, 233, 212, 287, 173, 335, 351, 316], 'ISA Brown': [299, 210, 317, 277, 286, 188, 263, 289, 234, 217, 192, 150, 162, 225], 'New Hampshire Red': [158, 153, 275, 240, 246, 265, 233, 190, 318, 283, 190, 219, 273, 277, 299, 266, 264, 283, 158, 297], 'Plymouth Rock': [268, 158, 340, 325, 262, 199, 230, 255, 159, 178, 356, 239, 180, 349, 272, 338, 257, 293, 177, 339, 232, 314]}\n"
     ]
    }
   ],
   "source": [
    "import pandas as pd\n",
    "\n",
    "# Read data from a CSV file into a DataFrame\n",
    "df = pd.read_excel(\"ChickenData.xlsx\")\n",
    "\n",
    "# Create dictionary with breed as keys and average eggs_per_year as values\n",
    "breed_eggs_dict = df.groupby('breed')['eggs_per_year'].apply(list).to_dict()\n",
    "\n",
    "print(breed_eggs_dict)\n"
   ]
  },
  {
   "cell_type": "code",
   "execution_count": 2,
   "metadata": {},
   "outputs": [
    {
     "name": "stdout",
     "output_type": "stream",
     "text": [
      "      Offer_Id                                               Type  \\\n",
      "0      7324420  AUDI A5 Sportback 3.0 TDI quattro S-tronic (Li...   \n",
      "1      7512768        MERCEDES-BENZ SLK 200 7G-Tronic (Cabriolet)   \n",
      "2      7512034  MERCEDES-BENZ C 350 Avantgarde 4Matic 7G-Troni...   \n",
      "3      7512728  MERCEDES-BENZ A 45 AMG 4Matic Speedshift 7G-DC...   \n",
      "4      7490242  AUDI A5 Sportback 2.0 TFSI Sport quattro S-tro...   \n",
      "...        ...                                                ...   \n",
      "3975   7137137                    FERRARI F360 Spider (Cabriolet)   \n",
      "3976   6758841            MERCEDES-BENZ SL 500 560 SL (Cabriolet)   \n",
      "3977   7461330          MERCEDES-BENZ CL 63 AMG 7G-Tronic (Coupé)   \n",
      "3978   7005403                        BMW 328i Cabrio (Cabriolet)   \n",
      "3979   7200843                  BMW 328i Cabrio Sport (Cabriolet)   \n",
      "\n",
      "             Price      PS Init_Regist   Kilometer Fuel_Type  \\\n",
      "0     CHF 22'500.  245 PS     10.2014   75'000 km    Diesel   \n",
      "1     CHF 23'749.  184 PS      6.2013   46'655 km    Benzin   \n",
      "2     CHF 18'500.  306 PS      6.2011  138'955 km    Benzin   \n",
      "3     CHF 36'000.  360 PS      8.2015   43'000 km    Benzin   \n",
      "4     CHF 48'500.  252 PS      9.2018   43'300 km    Benzin   \n",
      "...            ...     ...         ...         ...       ...   \n",
      "3975  CHF 58'400.  400 PS      2.2002   78'000 km    Benzin   \n",
      "3976  CHF 15'900.  232 PS      1.1987  315'000 km    Benzin   \n",
      "3977  CHF 42'000.  525 PS      8.2007   85'000 km    Benzin   \n",
      "3978   CHF 9'980.  193 PS      8.1995  188'920 km    Benzin   \n",
      "3979  CHF 13'500.  193 PS      4.1999  134'000 km    Benzin   \n",
      "\n",
      "                        Transmission  \n",
      "0     Automatisiertes Schaltgetriebe  \n",
      "1                Automat sequentiell  \n",
      "2                Automat sequentiell  \n",
      "3     Automatisiertes Schaltgetriebe  \n",
      "4     Automatisiertes Schaltgetriebe  \n",
      "...                              ...  \n",
      "3975  Automatisiertes Schaltgetriebe  \n",
      "3976              Automatik-Getriebe  \n",
      "3977             Automat sequentiell  \n",
      "3978          Schaltgetriebe manuell  \n",
      "3979          Schaltgetriebe manuell  \n",
      "\n",
      "[3980 rows x 8 columns]\n"
     ]
    }
   ],
   "source": [
    "import pandas as pd\n",
    "\n",
    "# Read data from a CSV file into a DataFrame\n",
    "df = pd.read_csv(\"Cars_autoscout24.csv\", sep=';', encoding='ISO-8859-1')\n",
    "\n",
    "# Display the first few rows of the DataFrame\n",
    "print(df)\n"
   ]
  },
  {
   "cell_type": "code",
   "execution_count": 18,
   "metadata": {},
   "outputs": [
    {
     "data": {
      "image/png": "[encoded data removed]",
      "text/plain": [
       "<Figure size 640x480 with 1 Axes>"
      ]
     },
     "metadata": {},
     "output_type": "display_data"
    }
   ],
   "source": [
    "import pandas as pd\n",
    "import matplotlib.pyplot as plt\n",
    "\n",
    "# Read data from a CSV file into a DataFrame\n",
    "df = pd.read_csv(\"Cars_autoscout24.csv\", delimiter=';', encoding='ISO-8859-1')\n",
    "\n",
    "# Remove 'CHF' prefix and any non-digit characters, then convert to float\n",
    "df['Prices_numeric'] = df['Price'].str.replace('CHF', '').str.replace(r'[^0-9]', '', regex=True).astype(float)\n",
    "\n",
    "# Plot histogram\n",
    "plt.hist(df['Prices_numeric'], bins=50, edgecolor='black')\n",
    "plt.title('Histogram of Prices')\n",
    "plt.xlabel('Price')\n",
    "plt.ylabel('Frequency')\n",
    "plt.show()\n",
    "\n"
   ]
  }
 ],
 "metadata": {
  "kernelspec": {
   "display_name": "Python 3",
   "language": "python",
   "name": "python3"
  },
  "language_info": {
   "codemirror_mode": {
    "name": "ipython",
    "version": 3
   },
   "file_extension": ".py",
   "mimetype": "text/x-python",
   "name": "python",
   "nbconvert_exporter": "python",
   "pygments_lexer": "ipython3",
   "version": "3.10.13"
  },
  "orig_nbformat": 4
 },
 "nbformat": 4,
 "nbformat_minor": 2
}
